{
  "nbformat": 4,
  "nbformat_minor": 0,
  "metadata": {
    "colab": {
      "provenance": [],
      "authorship_tag": "ABX9TyOtkbEV++r7PPIx/qTsVEmH",
      "include_colab_link": true
    },
    "kernelspec": {
      "name": "python3",
      "display_name": "Python 3"
    },
    "language_info": {
      "name": "python"
    }
  },
  "cells": [
    {
      "cell_type": "markdown",
      "metadata": {
        "id": "view-in-github",
        "colab_type": "text"
      },
      "source": [
        "<a href=\"https://colab.research.google.com/github/Aljes2310/GIS-tasks-in-Python/blob/main/sentinel_api_download.ipynb\" target=\"_parent\"><img src=\"https://colab.research.google.com/assets/colab-badge.svg\" alt=\"Open In Colab\"/></a>"
      ]
    },
    {
      "cell_type": "markdown",
      "source": [
        "Libreria a instalar\n",
        "\n"
      ],
      "metadata": {
        "id": "2jSnVSyCPIGc"
      }
    },
    {
      "cell_type": "code",
      "source": [
        "pip install sentinelhub"
      ],
      "metadata": {
        "colab": {
          "base_uri": "https://localhost:8080/"
        },
        "id": "gdAPNz0_pY-7",
        "outputId": "502b0dfa-41fb-4a79-9818-693748e43b4a"
      },
      "execution_count": null,
      "outputs": [
        {
          "output_type": "stream",
          "name": "stdout",
          "text": [
            "Collecting sentinelhub\n",
            "  Downloading sentinelhub-3.9.1-py3-none-any.whl (244 kB)\n",
            "\u001b[2K     \u001b[90m━━━━━━━━━━━━━━━━━━━━━━━━━━━━━━━━━━━━━━━\u001b[0m \u001b[32m244.4/244.4 kB\u001b[0m \u001b[31m3.7 MB/s\u001b[0m eta \u001b[36m0:00:00\u001b[0m\n",
            "\u001b[?25hCollecting aenum>=2.1.4 (from sentinelhub)\n",
            "  Downloading aenum-3.1.15-py3-none-any.whl (137 kB)\n",
            "\u001b[2K     \u001b[90m━━━━━━━━━━━━━━━━━━━━━━━━━━━━━━━━━━━━━━━\u001b[0m \u001b[32m137.6/137.6 kB\u001b[0m \u001b[31m6.2 MB/s\u001b[0m eta \u001b[36m0:00:00\u001b[0m\n",
            "\u001b[?25hRequirement already satisfied: click in /usr/local/lib/python3.10/dist-packages (from sentinelhub) (8.1.7)\n",
            "Collecting dataclasses-json (from sentinelhub)\n",
            "  Downloading dataclasses_json-0.5.14-py3-none-any.whl (26 kB)\n",
            "Requirement already satisfied: numpy in /usr/local/lib/python3.10/dist-packages (from sentinelhub) (1.23.5)\n",
            "Requirement already satisfied: oauthlib in /usr/local/lib/python3.10/dist-packages (from sentinelhub) (3.2.2)\n",
            "Requirement already satisfied: pillow>=9.2.0 in /usr/local/lib/python3.10/dist-packages (from sentinelhub) (9.4.0)\n",
            "Requirement already satisfied: pyproj>=2.2.0 in /usr/local/lib/python3.10/dist-packages (from sentinelhub) (3.6.0)\n",
            "Requirement already satisfied: python-dateutil in /usr/local/lib/python3.10/dist-packages (from sentinelhub) (2.8.2)\n",
            "Requirement already satisfied: requests-oauthlib>=1.0.0 in /usr/local/lib/python3.10/dist-packages (from sentinelhub) (1.3.1)\n",
            "Requirement already satisfied: requests>=2.27.0 in /usr/local/lib/python3.10/dist-packages (from sentinelhub) (2.31.0)\n",
            "Requirement already satisfied: shapely in /usr/local/lib/python3.10/dist-packages (from sentinelhub) (2.0.1)\n",
            "Requirement already satisfied: tifffile>=2020.9.30 in /usr/local/lib/python3.10/dist-packages (from sentinelhub) (2023.8.12)\n",
            "Requirement already satisfied: tomli in /usr/local/lib/python3.10/dist-packages (from sentinelhub) (2.0.1)\n",
            "Collecting tomli-w (from sentinelhub)\n",
            "  Downloading tomli_w-1.0.0-py3-none-any.whl (6.0 kB)\n",
            "Requirement already satisfied: tqdm in /usr/local/lib/python3.10/dist-packages (from sentinelhub) (4.66.1)\n",
            "Requirement already satisfied: typing-extensions in /usr/local/lib/python3.10/dist-packages (from sentinelhub) (4.7.1)\n",
            "Collecting utm (from sentinelhub)\n",
            "  Downloading utm-0.7.0.tar.gz (8.7 kB)\n",
            "  Preparing metadata (setup.py) ... \u001b[?25l\u001b[?25hdone\n",
            "Requirement already satisfied: certifi in /usr/local/lib/python3.10/dist-packages (from pyproj>=2.2.0->sentinelhub) (2023.7.22)\n",
            "Requirement already satisfied: charset-normalizer<4,>=2 in /usr/local/lib/python3.10/dist-packages (from requests>=2.27.0->sentinelhub) (3.2.0)\n",
            "Requirement already satisfied: idna<4,>=2.5 in /usr/local/lib/python3.10/dist-packages (from requests>=2.27.0->sentinelhub) (3.4)\n",
            "Requirement already satisfied: urllib3<3,>=1.21.1 in /usr/local/lib/python3.10/dist-packages (from requests>=2.27.0->sentinelhub) (2.0.4)\n",
            "Collecting marshmallow<4.0.0,>=3.18.0 (from dataclasses-json->sentinelhub)\n",
            "  Downloading marshmallow-3.20.1-py3-none-any.whl (49 kB)\n",
            "\u001b[2K     \u001b[90m━━━━━━━━━━━━━━━━━━━━━━━━━━━━━━━━━━━━━━━━\u001b[0m \u001b[32m49.4/49.4 kB\u001b[0m \u001b[31m4.8 MB/s\u001b[0m eta \u001b[36m0:00:00\u001b[0m\n",
            "\u001b[?25hCollecting typing-inspect<1,>=0.4.0 (from dataclasses-json->sentinelhub)\n",
            "  Downloading typing_inspect-0.9.0-py3-none-any.whl (8.8 kB)\n",
            "Requirement already satisfied: six>=1.5 in /usr/local/lib/python3.10/dist-packages (from python-dateutil->sentinelhub) (1.16.0)\n",
            "Requirement already satisfied: packaging>=17.0 in /usr/local/lib/python3.10/dist-packages (from marshmallow<4.0.0,>=3.18.0->dataclasses-json->sentinelhub) (23.1)\n",
            "Collecting mypy-extensions>=0.3.0 (from typing-inspect<1,>=0.4.0->dataclasses-json->sentinelhub)\n",
            "  Downloading mypy_extensions-1.0.0-py3-none-any.whl (4.7 kB)\n",
            "Building wheels for collected packages: utm\n",
            "  Building wheel for utm (setup.py) ... \u001b[?25l\u001b[?25hdone\n",
            "  Created wheel for utm: filename=utm-0.7.0-py3-none-any.whl size=6085 sha256=52e8a73c859e0b2f7618d8567e20c454b95a6728835e243875b5a572734b9d6d\n",
            "  Stored in directory: /root/.cache/pip/wheels/2f/a1/c8/543df0e8f5e824c3e92a432e32deb9cd89ae686095ee8cfcbe\n",
            "Successfully built utm\n",
            "Installing collected packages: utm, aenum, tomli-w, mypy-extensions, marshmallow, typing-inspect, dataclasses-json, sentinelhub\n",
            "Successfully installed aenum-3.1.15 dataclasses-json-0.5.14 marshmallow-3.20.1 mypy-extensions-1.0.0 sentinelhub-3.9.1 tomli-w-1.0.0 typing-inspect-0.9.0 utm-0.7.0\n"
          ]
        }
      ]
    },
    {
      "cell_type": "markdown",
      "source": [
        "Crear cuenta en https://www.sentinel-hub.com/trial y obtener credenciales en dashboard de usuario"
      ],
      "metadata": {
        "id": "QqhLqVUDtMH2"
      }
    },
    {
      "cell_type": "code",
      "source": [
        "from sentinelhub import SHConfig\n",
        "\n",
        "#mis credenciales\n",
        "config = SHConfig(\n",
        "    instance_id=\"39d7ff07-a7f6-44b3-9496-923c9b94aaaa\",\n",
        "    sh_client_id='384a00ae-40e2-4251-961f-5070a83370b7',\n",
        "    sh_client_secret='W|}<E+gaqKY9r)VkB>DyTO@Ogde:C/[vnP@8BYmx'\n",
        ")\n",
        "\n",
        "\n",
        "if not config.sh_client_id or not config.sh_client_secret:\n",
        "    print(\"Warning! To use Process API, please provide the credentials (OAuth client ID and client secret).\")\n",
        "\n",
        "config"
      ],
      "metadata": {
        "colab": {
          "base_uri": "https://localhost:8080/"
        },
        "id": "rl-v9ZGzpiVz",
        "outputId": "8d4e131a-b62f-4924-d52b-ca1ccf16614e"
      },
      "execution_count": null,
      "outputs": [
        {
          "output_type": "execute_result",
          "data": {
            "text/plain": [
              "SHConfig(\n",
              "  instance_id='********************************aaaa',\n",
              "  sh_client_id='********************************70b7',\n",
              "  sh_client_secret='************************************BYmx',\n",
              "  sh_base_url='https://services.sentinel-hub.com',\n",
              "  sh_auth_base_url=None,\n",
              "  sh_token_url='https://services.sentinel-hub.com/oauth/token',\n",
              "  geopedia_wms_url='https://service.geopedia.world',\n",
              "  geopedia_rest_url='https://www.geopedia.world/rest',\n",
              "  aws_access_key_id='',\n",
              "  aws_secret_access_key='',\n",
              "  aws_session_token='',\n",
              "  aws_metadata_url='https://roda.sentinel-hub.com',\n",
              "  aws_s3_l1c_bucket='sentinel-s2-l1c',\n",
              "  aws_s3_l2a_bucket='sentinel-s2-l2a',\n",
              "  opensearch_url='http://opensearch.sentinel-hub.com/resto/api/collections/Sentinel2',\n",
              "  max_wfs_records_per_query=100,\n",
              "  max_opensearch_records_per_query=500,\n",
              "  max_download_attempts=4,\n",
              "  download_sleep_time=5.0,\n",
              "  download_timeout_seconds=120.0,\n",
              "  number_of_download_processes=1,\n",
              ")"
            ]
          },
          "metadata": {},
          "execution_count": 2
        }
      ]
    },
    {
      "cell_type": "markdown",
      "source": [
        "Importacion de Librerias"
      ],
      "metadata": {
        "id": "v_e8tescPQsl"
      }
    },
    {
      "cell_type": "code",
      "source": [
        "import datetime\n",
        "import os\n",
        "\n",
        "import matplotlib.pyplot as plt\n",
        "import numpy as np\n",
        "\n",
        "from sentinelhub import (\n",
        "    CRS,\n",
        "    BBox,\n",
        "    DataCollection,\n",
        "    DownloadRequest,\n",
        "    MimeType,\n",
        "    MosaickingOrder,\n",
        "    SentinelHubDownloadClient,\n",
        "    SentinelHubRequest,\n",
        "    bbox_to_dimensions,\n",
        ")\n",
        "\n",
        "# The following is not a package. It is a file utils.py which should be in the same folder as this notebook.\n",
        "#from utils import plot_image"
      ],
      "metadata": {
        "id": "apd3uU41p0x4"
      },
      "execution_count": null,
      "outputs": []
    },
    {
      "cell_type": "markdown",
      "source": [
        "Definir el area de la imagen satelital"
      ],
      "metadata": {
        "id": "fnbLnOoLkiIY"
      }
    },
    {
      "cell_type": "code",
      "source": [
        "#longitude and latitude coordinates of lower left and upper right corners)\n",
        "betsiboka_coords_wgs84 = (-75.99937, -14.44883, -75.78805, -14.60921)"
      ],
      "metadata": {
        "id": "AUX-v9r-qmpt"
      },
      "execution_count": null,
      "outputs": []
    },
    {
      "cell_type": "markdown",
      "source": [
        "Definimos resolucion"
      ],
      "metadata": {
        "id": "WzaS9d3A37er"
      }
    },
    {
      "cell_type": "code",
      "source": [
        "resolution = 10\n",
        "betsiboka_bbox = BBox(bbox=betsiboka_coords_wgs84, crs=CRS.WGS84)\n",
        "betsiboka_size = bbox_to_dimensions(betsiboka_bbox, resolution=resolution)\n",
        "\n",
        "print(f\"Image shape at {resolution} m resolution: {betsiboka_size} pixels\")"
      ],
      "metadata": {
        "colab": {
          "base_uri": "https://localhost:8080/"
        },
        "id": "Nj2QGl5Nqpok",
        "outputId": "a482f754-18f0-442d-8dc7-eabeab62b708"
      },
      "execution_count": null,
      "outputs": [
        {
          "output_type": "stream",
          "name": "stdout",
          "text": [
            "Image shape at 10 m resolution: (2270, 1783) pixels\n"
          ]
        }
      ]
    },
    {
      "cell_type": "markdown",
      "source": [
        "Cargamos funcion"
      ],
      "metadata": {
        "id": "dYEUV6wOlA5W"
      }
    },
    {
      "cell_type": "code",
      "source": [
        "evalscript_true_color = \"\"\"\n",
        "    //VERSION=3\n",
        "\n",
        "    function setup() {\n",
        "        return {\n",
        "            input: [{\n",
        "                bands: [\"B02\", \"B03\", \"B04\"]\n",
        "            }],\n",
        "            output: {\n",
        "                bands: 3\n",
        "            }\n",
        "        };\n",
        "    }\n",
        "\n",
        "    function evaluatePixel(sample) {\n",
        "        return [sample.B04, sample.B03, sample.B02];\n",
        "    }\n",
        "\"\"\"\n"
      ],
      "metadata": {
        "id": "H3igncMek823"
      },
      "execution_count": null,
      "outputs": []
    },
    {
      "cell_type": "markdown",
      "source": [
        "Definimos Fecha, este scripts es para imagenes diarias"
      ],
      "metadata": {
        "id": "gTQp78nv3-cb"
      }
    },
    {
      "cell_type": "code",
      "source": [
        "start = datetime.datetime(2022, 1, 1)\n",
        "end = datetime.datetime(2022, 1, 6)\n",
        "n_chunks = 1 #numero de dias\n",
        "tdelta = (end - start) / n_chunks\n",
        "edges = [(start + i * tdelta).date().isoformat() for i in range(n_chunks)]\n",
        "slots = [(edges[i], edges[i + 1]) for i in range(len(edges) - 1)]\n",
        "\n",
        "for slot in slots:\n",
        "    print(slot)"
      ],
      "metadata": {
        "id": "RGfxSQLkvw0S"
      },
      "execution_count": null,
      "outputs": []
    },
    {
      "cell_type": "markdown",
      "source": [
        "Cargamos funcion de descarga, se descarga imagenes como arrays"
      ],
      "metadata": {
        "id": "zerwqqJv4ByJ"
      }
    },
    {
      "cell_type": "code",
      "source": [
        "def get_true_color_request(time_interval):\n",
        "    return SentinelHubRequest(\n",
        "        evalscript=evalscript_true_color,\n",
        "        input_data=[\n",
        "            SentinelHubRequest.input_data(\n",
        "                data_collection=DataCollection.SENTINEL2_L1C,\n",
        "                time_interval=time_interval,\n",
        "                mosaicking_order=MosaickingOrder.LEAST_CC,\n",
        "            )\n",
        "        ],\n",
        "        responses=[SentinelHubRequest.output_response(\"default\", MimeType.PNG)],\n",
        "        bbox=betsiboka_bbox,\n",
        "        size=betsiboka_size,\n",
        "        config=config,\n",
        "    )\n",
        "\n",
        "\n",
        "# create a list of requests\n",
        "list_of_requests = [get_true_color_request(slot) for slot in slots]\n",
        "list_of_requests = [request.download_list[0] for request in list_of_requests]\n",
        "\n",
        "# download data with multiple threads\n",
        "data = SentinelHubDownloadClient(config=config).download(list_of_requests, max_threads=5)"
      ],
      "metadata": {
        "id": "Y4NxnAytqxh7"
      },
      "execution_count": null,
      "outputs": []
    },
    {
      "cell_type": "markdown",
      "source": [
        "Convertimos los arrays a png, primero definimos la carpeta donde queremos que se descarge los png"
      ],
      "metadata": {
        "id": "zbkjwQYk4JNo"
      }
    },
    {
      "cell_type": "code",
      "source": [
        "from PIL import Image\n",
        "\n",
        "for idx,x in enumerate(data):\n",
        "  im = Image.fromarray(x)\n",
        "  fecha = (start + datetime.timedelta(days=idx))\n",
        "  im.save(f\"{fecha.strftime('%Y-%m-%d')}.tif\")"
      ],
      "metadata": {
        "id": "iFHnC57yurex"
      },
      "execution_count": null,
      "outputs": []
    }
  ]
}